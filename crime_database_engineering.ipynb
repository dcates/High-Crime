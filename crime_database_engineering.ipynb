{
 "cells": [
  {
   "cell_type": "code",
   "execution_count": 1,
   "metadata": {},
   "outputs": [],
   "source": [
    "# Import dictionaries\n",
    "import pandas as pd\n",
    "from datetime import datetime\n",
    "\n",
    "# Import SQL Alchemy\n",
    "from sqlalchemy import create_engine\n",
    "\n",
    "# Import and establish Base for which classes will be constructed \n",
    "from sqlalchemy.ext.declarative import declarative_base\n",
    "Base = declarative_base()\n",
    "\n",
    "# Import modules to declare columns and column data types\n",
    "from sqlalchemy import Column, Integer, String, Float, Date"
   ]
  },
  {
   "cell_type": "code",
   "execution_count": 2,
   "metadata": {},
   "outputs": [
    {
     "name": "stderr",
     "output_type": "stream",
     "text": [
      "C:\\Users\\kimberly\\Anaconda3\\envs\\PythonData\\lib\\site-packages\\IPython\\core\\interactiveshell.py:2728: DtypeWarning: Columns (16,17) have mixed types. Specify dtype option on import or set low_memory=False.\n",
      "  interactivity=interactivity, compiler=compiler, result=result)\n"
     ]
    }
   ],
   "source": [
    "crime_df = pd.read_csv(\"resources/crime.csv\")\n",
    "crime_thc_df = pd.read_csv(\"resources/crime_marijuana.csv\")\n",
    "traffic_accidents_df = pd.read_csv(\"resources/traffic_accidents.csv\")"
   ]
  },
  {
   "cell_type": "code",
   "execution_count": 3,
   "metadata": {},
   "outputs": [],
   "source": [
    "class Crime(Base):\n",
    "    __tablename__ = 'crime'\n",
    "    id = Column(Integer, primary_key=True)\n",
    "    INCIDENT = Column(Float)\n",
    "    OFFENSE = Column(Float)\n",
    "    OFFENSE_CODE = Column(Integer)\n",
    "    OFFENSE_CODE_EXTENSION = Column(Integer)\n",
    "    OFFENSE_TYPE = Column(String)\n",
    "    OFFENSE_CATEGORY = Column(String)\n",
    "    FIRST_OCCURRENCE_DATE = Column(String)\n",
    "    LAST_OCCURRENCE_DATE = Column(String)\n",
    "    REPORTED_DATE = Column(Date)\n",
    "    INCIDENT_ADDRESS = Column(String)\n",
    "    GEO_X = Column(Float)\n",
    "    GEO_Y = Column(Float)\n",
    "    GEO_LON = Column(Float)\n",
    "    GEO_LAT = Column(Float)\n",
    "    DISTRICT = Column(Integer)\n",
    "    PRECINCT = Column(Integer)\n",
    "    NEIGHBORHOOD = Column(String)\n",
    "    IS_CRIME = Column(Integer)\n",
    "    IS_TRAFFIC = Column(Integer)"
   ]
  },
  {
   "cell_type": "code",
   "execution_count": 4,
   "metadata": {},
   "outputs": [],
   "source": [
    "class Crime_THC(Base):\n",
    "    __tablename__= 'crime_thc'\n",
    "    id = Column(Integer, primary_key=True)\n",
    "    INCIDENT = Column(Float)\n",
    "    FIRST_OCCURENCE_DATE = Column(String)\n",
    "    LAST_OCCURENCE_DATE = Column(String)\n",
    "    REPORTDATE = Column(Date)\n",
    "    INCIDENT_ADDRESS = Column(String)\n",
    "    GEO_X = Column(Float)\n",
    "    GEO_Y = Column(Float)\n",
    "    DISTRICT = Column(Integer)\n",
    "    PRECINCT = Column(Integer)\n",
    "    OFFENSE_CODE = Column(Integer)\n",
    "    OFFENSE_TYPE = Column(String)\n",
    "    OFFENSE_CATEGORY = Column(String)\n",
    "    MJ_RELATION_TYPE = Column(String)\n",
    "    NEIGHBORHOOD = Column(String)"
   ]
  },
  {
   "cell_type": "code",
   "execution_count": 5,
   "metadata": {},
   "outputs": [],
   "source": [
    "class Traffic_Accidents(Base):\n",
    "    __tablename__='traffic_accidents'\n",
    "    id = Column(Integer, primary_key=True)\n",
    "    OBJECTID_1 = Column(Integer)\n",
    "    INCIDENT = Column(Float)\n",
    "    OFFENSE = Column(Integer)\n",
    "    OFFENSE_CODE = Column(Integer)\n",
    "    OFFENSE_CODE_EXTENSION = Column(Integer)\n",
    "    OFFENSE_TYPE = Column(String)\n",
    "    OFFENSE_CATEGORY = Column(String)\n",
    "    FIRST_OCCURENCE_DATE = Column(Integer)\n",
    "    LAST_OCCURENCE_DATE = Column(Integer)\n",
    "    REPORTED_DATE = Column(Date)\n",
    "    INCIDENT_ADDRESS = Column(String)\n",
    "    GEO_X = Column(Float)\n",
    "    GEO_Y = Column(Float)\n",
    "    GEO_LON = Column(Float)\n",
    "    GEO_LAT = Column(Float)\n",
    "    DISTRICT = Column(Integer)\n",
    "    PRECINCT = Column(Integer)\n",
    "    NEIGHBORHOOD = Column(String)\n",
    "    BICYCLE_IND = Column(String)\n",
    "    PEDESTRIAN_IND = Column(String)"
   ]
  },
  {
   "cell_type": "code",
   "execution_count": 6,
   "metadata": {},
   "outputs": [],
   "source": [
    "engine = create_engine('sqlite:///resources/denver_crime_sqlite.db')"
   ]
  },
  {
   "cell_type": "code",
   "execution_count": 7,
   "metadata": {},
   "outputs": [],
   "source": [
    "# Create the tables within the database\n",
    "Base.metadata.create_all(engine)"
   ]
  },
  {
   "cell_type": "code",
   "execution_count": 8,
   "metadata": {},
   "outputs": [],
   "source": [
    "# Session is a temporary binding to our DB\n",
    "from sqlalchemy.orm import Session\n",
    "session = Session(bind=engine)"
   ]
  },
  {
   "cell_type": "code",
   "execution_count": 9,
   "metadata": {},
   "outputs": [
    {
     "name": "stdout",
     "output_type": "stream",
     "text": [
      "474363\n"
     ]
    }
   ],
   "source": [
    "counter=0\n",
    "\n",
    "crime_id = crime_df[\"id\"].tolist()\n",
    "INCIDENT_ID = crime_df[\"INCIDENT\"].tolist()\n",
    "OFFENSE_ID = crime_df[\"OFFENSE\"].tolist()\n",
    "OFFENSE_CODE = crime_df[\"OFFENSE_CODE\"].tolist()\n",
    "OFFENSE_CODE_EXTENSION = crime_df[\"OFFENSE_CODE_EXTENSION\"].tolist()\n",
    "OFFENSE_TYPE_ID = crime_df[\"OFFENSE_TYPE\"].tolist()\n",
    "OFFENSE_CATEGORY_ID = crime_df[\"OFFENSE_CATEGORY\"].tolist()\n",
    "FIRST_OCCURRENCE_DATE = crime_df[\"FIRST_OCCURRENCE_DATE\"].tolist()\n",
    "LAST_OCCURRENCE_DATE = crime_df[\"LAST_OCCURRENCE_DATE\"].tolist()\n",
    "REPORTED_DATE = crime_df[\"REPORTED_DATE\"].tolist()\n",
    "INCIDENT_ADDRESS = crime_df[\"INCIDENT_ADDRESS\"].tolist()\n",
    "GEO_X = crime_df[\"GEO_X\"].tolist()\n",
    "GEO_Y = crime_df[\"GEO_Y\"].tolist()\n",
    "GEO_LON = crime_df[\"GEO_LON\"].tolist()\n",
    "GEO_LAT = crime_df[\"GEO_LAT\"].tolist()\n",
    "DISTRICT_ID = crime_df[\"DISTRICT\"].tolist()\n",
    "PRECINCT_ID = crime_df[\"PRECINCT\"].tolist()\n",
    "NEIGHBORHOOD_ID = crime_df[\"NEIGHBORHOOD\"].tolist()\n",
    "IS_CRIME = crime_df[\"IS_CRIME\"].tolist()\n",
    "IS_TRAFFIC = crime_df[\"IS_TRAFFIC\"].tolist()\n",
    "\n",
    "try:\n",
    "    for c in crime_id:\n",
    "        record = Crime(**{\n",
    "            'id': crime_id[counter],\n",
    "            'INCIDENT': INCIDENT_ID[counter],\n",
    "            'OFFENSE': OFFENSE_ID[counter],\n",
    "            'OFFENSE_CODE': OFFENSE_CODE[counter],\n",
    "            'OFFENSE_CODE_EXTENSION': OFFENSE_CODE_EXTENSION[counter],\n",
    "            'OFFENSE_TYPE': OFFENSE_TYPE_ID[counter],\n",
    "            'OFFENSE_CATEGORY': OFFENSE_CATEGORY_ID[counter],\n",
    "            'FIRST_OCCURRENCE_DATE': FIRST_OCCURRENCE_DATE[counter],\n",
    "            'LAST_OCCURRENCE_DATE': LAST_OCCURRENCE_DATE[counter],\n",
    "            'REPORTED_DATE': datetime.strptime(REPORTED_DATE[counter], '%m/%d/%Y %H:%M').date(),\n",
    "            'INCIDENT_ADDRESS': INCIDENT_ADDRESS[counter],\n",
    "            'GEO_X': GEO_X[counter],\n",
    "            'GEO_Y': GEO_Y[counter],\n",
    "            'GEO_LON': GEO_LON[counter],\n",
    "            'GEO_LAT': GEO_LAT[counter],\n",
    "            'DISTRICT': DISTRICT_ID[counter],\n",
    "            'PRECINCT': PRECINCT_ID[counter],\n",
    "            'NEIGHBORHOOD': NEIGHBORHOOD_ID[counter],\n",
    "            'IS_CRIME': IS_CRIME[counter],\n",
    "            'IS_TRAFFIC': IS_TRAFFIC[counter]})\n",
    "        counter += 1\n",
    "        session.add(record)\n",
    "    session.commit()\n",
    "finally:\n",
    "    session.close()  \n",
    "print(counter)"
   ]
  },
  {
   "cell_type": "code",
   "execution_count": 10,
   "metadata": {},
   "outputs": [
    {
     "name": "stdout",
     "output_type": "stream",
     "text": [
      "1454\n"
     ]
    }
   ],
   "source": [
    "counter=0\n",
    "\n",
    "thc_id = crime_thc_df[\"id\"].tolist()\n",
    "INCIDENT = crime_thc_df[\"INCIDENT\"].tolist()\n",
    "FIRST_OCCURENCE_DATE = crime_thc_df[\"FIRST_OCCURENCE_DATE\"].tolist()\n",
    "LAST_OCCURENCE_DATE = crime_thc_df[\"LAST_OCCURENCE_DATE\"].tolist()\n",
    "REPORTDATE = crime_thc_df[\"REPORTDATE\"].tolist()\n",
    "INCIDENT_ADDRESS = crime_thc_df[\"INCIDENT_ADDRESS\"].tolist()\n",
    "GEO_X = crime_thc_df[\"GEO_X\"].tolist()\n",
    "GEO_Y = crime_thc_df[\"GEO_Y\"].tolist()\n",
    "DISTRICT_ID = crime_thc_df[\"DISTRICT\"].tolist()\n",
    "PRECINCT_ID = crime_thc_df[\"PRECINCT\"].tolist()\n",
    "OFFENSE_CODE = crime_thc_df[\"OFFENSE_CODE\"].tolist()\n",
    "OFFENSE_TYPE_ID = crime_thc_df[\"OFFENSE_TYPE\"].tolist()\n",
    "OFFENSE_CATEGORY_ID = crime_thc_df[\"OFFENSE_CATEGORY\"].tolist()\n",
    "MJ_RELATION_TYPE = crime_thc_df[\"MJ_RELATION_TYPE\"].tolist()\n",
    "NEIGHBORHOOD_ID = crime_thc_df[\"NEIGHBORHOOD\"].tolist()\n",
    "\n",
    "try:\n",
    "    for c in thc_id:\n",
    "        record = Crime_THC(**{\n",
    "            'id': thc_id[counter],\n",
    "            'INCIDENT': INCIDENT[counter],\n",
    "            'FIRST_OCCURENCE_DATE': FIRST_OCCURENCE_DATE[counter],\n",
    "            'LAST_OCCURENCE_DATE': LAST_OCCURENCE_DATE[counter],\n",
    "            'REPORTDATE': datetime.strptime(REPORTDATE[counter], '%d-%b-%y').date(),\n",
    "            'INCIDENT_ADDRESS': INCIDENT_ADDRESS[counter],\n",
    "            'GEO_X': GEO_X[counter],\n",
    "            'GEO_Y': GEO_Y[counter],\n",
    "            'DISTRICT': DISTRICT_ID[counter],\n",
    "            'PRECINCT': PRECINCT_ID[counter],\n",
    "            'OFFENSE_CODE': OFFENSE_CODE[counter],\n",
    "            'OFFENSE_TYPE': OFFENSE_TYPE_ID[counter],\n",
    "            'OFFENSE_CATEGORY': OFFENSE_CATEGORY_ID[counter],\n",
    "            'MJ_RELATION_TYPE': MJ_RELATION_TYPE[counter],\n",
    "            'NEIGHBORHOOD': NEIGHBORHOOD_ID[counter]})\n",
    "        counter += 1\n",
    "        session.add(record)\n",
    "    session.commit()\n",
    "finally:\n",
    "    session.close()  \n",
    "print(counter)\n"
   ]
  },
  {
   "cell_type": "code",
   "execution_count": 11,
   "metadata": {},
   "outputs": [
    {
     "name": "stdout",
     "output_type": "stream",
     "text": [
      "132795\n"
     ]
    }
   ],
   "source": [
    "counter=0\n",
    "\n",
    "traffic_id = traffic_accidents_df[\"id\"].tolist()\n",
    "OBJECTID_1 = traffic_accidents_df[\"OBJECTID_1\"].tolist()\n",
    "INCIDENT = traffic_accidents_df[\"INCIDENT\"].tolist()\n",
    "OFFENSE = traffic_accidents_df[\"OFFENSE\"].tolist()\n",
    "OFFENSE_CODE = traffic_accidents_df[\"OFFENSE_CODE\"].tolist()\n",
    "OFFENSE_CODE_EXTENSION = traffic_accidents_df[\"OFFENSE_CODE_EXTENSION\"].tolist()\n",
    "OFFENSE_TYPE = traffic_accidents_df[\"OFFENSE_TYPE\"].tolist()\n",
    "OFFENSE_CATEGORY = traffic_accidents_df[\"OFFENSE_CATEGORY\"].tolist()\n",
    "FIRST_OCCURENCE_DATE = traffic_accidents_df[\"FIRST_OCCURENCE_DATE\"].tolist()\n",
    "LAST_OCCURENCE_DATE = traffic_accidents_df[\"LAST_OCCURENCE_DATE\"].tolist()\n",
    "REPORTED_DATE = traffic_accidents_df[\"REPORTED_DATE\"].tolist()\n",
    "INCIDENT_ADDRESS = traffic_accidents_df[\"INCIDENT_ADDRESS\"].tolist()\n",
    "GEO_X = traffic_accidents_df[\"GEO_X\"].tolist()\n",
    "GEO_Y = traffic_accidents_df[\"GEO_Y\"].tolist()\n",
    "GEO_LON = traffic_accidents_df[\"GEO_LON\"].tolist()\n",
    "GEO_LAT = traffic_accidents_df[\"GEO_LAT\"].tolist()\n",
    "DISTRICT = traffic_accidents_df[\"DISTRICT\"].tolist()\n",
    "PRECINCT = traffic_accidents_df[\"PRECINCT\"].tolist()\n",
    "NEIGHBORHOOD = traffic_accidents_df[\"NEIGHBORHOOD\"].tolist()\n",
    "BICYCLE_IND = traffic_accidents_df[\"BICYCLE_IND\"].tolist()\n",
    "PEDESTRIAN_IND = traffic_accidents_df[\"PEDESTRIAN_IND\"].tolist()\n",
    "\n",
    "try:\n",
    "    for c in traffic_id:\n",
    "        record = Traffic_Accidents(**{\n",
    "            'id': traffic_id[counter],\n",
    "            'OBJECTID_1': OBJECTID_1[counter],\n",
    "            'INCIDENT': INCIDENT[counter],\n",
    "            'OFFENSE': OFFENSE[counter],\n",
    "            'OFFENSE_CODE': OFFENSE_CODE[counter],\n",
    "            'OFFENSE_CODE_EXTENSION': OFFENSE_CODE_EXTENSION[counter],\n",
    "            'OFFENSE_TYPE': OFFENSE_TYPE[counter],\n",
    "            'OFFENSE_CATEGORY': OFFENSE_CATEGORY[counter],\n",
    "            'FIRST_OCCURENCE_DATE': FIRST_OCCURENCE_DATE[counter],\n",
    "            'LAST_OCCURENCE_DATE': LAST_OCCURENCE_DATE[counter],\n",
    "            'REPORTED_DATE': datetime.strptime(REPORTED_DATE[counter], '%m/%d/%Y %H:%M').date(),\n",
    "            'INCIDENT_ADDRESS': INCIDENT_ADDRESS[counter],\n",
    "            'GEO_X': GEO_X[counter],\n",
    "            'GEO_Y': GEO_Y[counter],\n",
    "            'GEO_LON': GEO_LON[counter],\n",
    "            'GEO_LAT': GEO_LAT[counter],\n",
    "            'DISTRICT': DISTRICT[counter],\n",
    "            'PRECINCT': PRECINCT[counter],\n",
    "            'NEIGHBORHOOD': NEIGHBORHOOD[counter],\n",
    "            'BICYCLE_IND': BICYCLE_IND[counter],\n",
    "            'PEDESTRIAN_IND': PEDESTRIAN_IND[counter]})\n",
    "        counter += 1\n",
    "        session.add(record)\n",
    "    session.commit()\n",
    "finally:\n",
    "    session.close()  \n",
    "print(counter)\n"
   ]
  },
  {
   "cell_type": "code",
   "execution_count": null,
   "metadata": {},
   "outputs": [],
   "source": []
  }
 ],
 "metadata": {
  "kernelspec": {
   "display_name": "Python [conda env:PythonData]",
   "language": "python",
   "name": "conda-env-PythonData-py"
  },
  "language_info": {
   "codemirror_mode": {
    "name": "ipython",
    "version": 3
   },
   "file_extension": ".py",
   "mimetype": "text/x-python",
   "name": "python",
   "nbconvert_exporter": "python",
   "pygments_lexer": "ipython3",
   "version": "3.6.4"
  }
 },
 "nbformat": 4,
 "nbformat_minor": 2
}
